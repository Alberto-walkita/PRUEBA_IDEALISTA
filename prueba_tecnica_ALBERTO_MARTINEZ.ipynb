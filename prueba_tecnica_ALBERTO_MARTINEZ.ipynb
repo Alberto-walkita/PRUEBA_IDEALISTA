{
  "nbformat": 4,
  "nbformat_minor": 0,
  "metadata": {
    "colab": {
      "provenance": [],
      "authorship_tag": "ABX9TyOzUxDuxM+dpuK8ZxPhJCbL",
      "include_colab_link": true
    },
    "kernelspec": {
      "name": "python3",
      "display_name": "Python 3"
    },
    "language_info": {
      "name": "python"
    }
  },
  "cells": [
    {
      "cell_type": "markdown",
      "metadata": {
        "id": "view-in-github",
        "colab_type": "text"
      },
      "source": [
        "<a href=\"https://colab.research.google.com/github/Alberto-walkita/PRUEBA_IDEALISTA/blob/main/prueba_tecnica_ALBERTO_MARTINEZ.ipynb\" target=\"_parent\"><img src=\"https://colab.research.google.com/assets/colab-badge.svg\" alt=\"Open In Colab\"/></a>"
      ]
    },
    {
      "cell_type": "code",
      "execution_count": 1,
      "metadata": {
        "colab": {
          "base_uri": "https://localhost:8080/"
        },
        "id": "op2sDqOGppo2",
        "outputId": "1c53abb9-70a8-43aa-b41b-affff3e70e6f"
      },
      "outputs": [
        {
          "output_type": "stream",
          "name": "stdout",
          "text": [
            "Requirement already satisfied: requests in /usr/local/lib/python3.10/dist-packages (2.31.0)\n",
            "Requirement already satisfied: charset-normalizer<4,>=2 in /usr/local/lib/python3.10/dist-packages (from requests) (3.3.2)\n",
            "Requirement already satisfied: idna<4,>=2.5 in /usr/local/lib/python3.10/dist-packages (from requests) (3.6)\n",
            "Requirement already satisfied: urllib3<3,>=1.21.1 in /usr/local/lib/python3.10/dist-packages (from requests) (2.0.7)\n",
            "Requirement already satisfied: certifi>=2017.4.17 in /usr/local/lib/python3.10/dist-packages (from requests) (2023.11.17)\n"
          ]
        }
      ],
      "source": [
        "!pip install requests"
      ]
    },
    {
      "cell_type": "code",
      "source": [
        "import requests\n",
        "import bz2\n",
        "import csv\n",
        "from io import BytesIO"
      ],
      "metadata": {
        "id": "UjL1T0Ngp4wj"
      },
      "execution_count": 2,
      "outputs": []
    },
    {
      "cell_type": "code",
      "source": [
        "data_url = \"https://github.com/Alberto-walkita/PRUEBA_IDEALISTA/raw/main/data.csv.bz2\"\n",
        "\n",
        "get_data = requests.get(data_url)\n",
        "\n",
        "# Verifica si la solicitud fue exitosa (código de estado 200)\n",
        "\n",
        "if get_data.status_code == 200:\n",
        "    print(\"Archivo CSV.bz2 descargado y procesado correctamente.\")\n",
        "    print(\"---\")\n",
        "    try:\n",
        "        with bz2.open(BytesIO(get_data.content), 'rb') as data_file:\n",
        "            reader_data = csv.reader(data_file.read().decode('utf-8').splitlines())\n",
        "            print(\"Primeras 5 filas de 'data.csv.bz2':\\n\")\n",
        "            for i, row in enumerate(reader_data):\n",
        "                if i < 5:\n",
        "                    print(row)\n",
        "                else:\n",
        "                    break\n",
        "    except Exception as e:\n",
        "        print(f\"Error al procesar 'data.csv.bz2': {e}\")\n",
        "\n",
        "else:\n",
        "    print(\"No se pudo descargar uno de los archivos CSV.bz2\")"
      ],
      "metadata": {
        "colab": {
          "base_uri": "https://localhost:8080/"
        },
        "id": "YM9e8UMWqMDW",
        "outputId": "00f22aa3-4e48-4096-b558-b5840425fa98"
      },
      "execution_count": 3,
      "outputs": [
        {
          "output_type": "stream",
          "name": "stdout",
          "text": [
            "Archivo CSV.bz2 descargado y procesado correctamente.\n",
            "---\n",
            "Primeras 5 filas de 'data.csv.bz2':\n",
            "\n",
            "['ad_id', 'customer_id', 'city', 'typology', 'subtypology', 'transaction_type', 'zipcode', 'bedrooms', 'bathrooms', 'area', 'area_land', 'is_professional', 'date_added']\n",
            "['5156564', '39323032373531333936323630', 'Barcelona Capital', 'Vivienda', 'Dúplex', 'sale', '8038', '2', '2', '91', '0', '1', '2012-05-18T12:26:00']\n",
            "['5156565', '39323032373532323235313938', 'Barcelona Capital', 'Vivienda', 'Piso', 'rent', '8034', '5', '3', '0', '0', '1', '2014-04-01T11:23:00']\n",
            "['5156566', '39323032373534303438333537', 'Barcelona Capital', 'Oficina', '', 'rent', '8017', '0', '0', '50', '0', '1', '2014-06-02T09:38:00']\n",
            "['5156567', '39323032373531373435393038', 'Dosrius', 'Terreno', 'Terreno Urbanizable', 'sale', '8319', '0', '0', '740', '0', '0', '2014-12-11T00:01:00']\n"
          ]
        }
      ]
    },
    {
      "cell_type": "code",
      "source": [
        "prices_url = \"https://github.com/Alberto-walkita/PRUEBA_IDEALISTA/raw/main/prices.csv.bz2\"\n",
        "\n",
        "get_prices = requests.get(prices_url)\n",
        "\n",
        "if get_prices.status_code == 200:\n",
        "    print(\"Archivo CSV.bz2 descargado y procesado correctamente.\")\n",
        "    print(\"---\")\n",
        "    try:\n",
        "        with bz2.open(BytesIO(get_prices.content), 'rb') as prices_file:\n",
        "            reader_prices = csv.reader(prices_file.read().decode('utf-8').splitlines())\n",
        "            print(\"Primeras 5 filas de 'prices.csv.bz2':\\n\")\n",
        "            for i, row in enumerate(reader_prices):\n",
        "                if i < 5:\n",
        "                    print(row)\n",
        "                else:\n",
        "                    break\n",
        "    except Exception as e:\n",
        "        print(f\"Error al procesar 'prices.csv.bz2': {e}\")\n",
        "else:\n",
        "    print(\"No se pudo descargar el archivo CSV.bz2\")"
      ],
      "metadata": {
        "colab": {
          "base_uri": "https://localhost:8080/"
        },
        "id": "Y3ucAjLSqOc0",
        "outputId": "4533b6cf-b47e-4643-8d98-865106f914d5"
      },
      "execution_count": 4,
      "outputs": [
        {
          "output_type": "stream",
          "name": "stdout",
          "text": [
            "Archivo CSV.bz2 descargado y procesado correctamente.\n",
            "---\n",
            "Primeras 5 filas de 'prices.csv.bz2':\n",
            "\n",
            "['id', 'price']\n",
            "['5156564', '320000']\n",
            "['5156565', '5000']\n",
            "['5156566', '75']\n",
            "['5156567', '75000']\n"
          ]
        }
      ]
    }
  ]
}